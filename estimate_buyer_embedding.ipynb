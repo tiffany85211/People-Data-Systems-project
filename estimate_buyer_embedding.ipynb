{
 "cells": [
  {
   "cell_type": "code",
   "execution_count": 1,
   "metadata": {
    "id": "VF7ThMIK0EmC"
   },
   "outputs": [
    {
     "name": "stderr",
     "output_type": "stream",
     "text": [
      "/Users/tiffanyc/anaconda3/lib/python3.7/site-packages/pandas/compat/_optional.py:138: UserWarning: Pandas requires version '2.7.0' or newer of 'numexpr' (version '2.6.9' currently installed).\n",
      "  warnings.warn(msg, UserWarning)\n"
     ]
    }
   ],
   "source": [
    "import pandas as pd\n",
    "import numpy as np\n",
    "import pickle\n",
    "from sklearn.neighbors import NearestNeighbors\n",
    "\n",
    "N_NEIGHBORS = 5\n",
    "FILEPATH = 'agents/pricemaker_files/'\n",
    "\n",
    "def openpickle(filename):\n",
    "    with open(filename, \"rb\") as readfile:\n",
    "        loaded = pickle.load(readfile)\n",
    "    return loaded"
   ]
  },
  {
   "cell_type": "code",
   "execution_count": 2,
   "metadata": {
    "colab": {
     "base_uri": "https://localhost:8080/",
     "height": 357
    },
    "id": "Byz7RQtf0Mx-",
    "outputId": "d7cece30-2112-4038-e74e-6451a0eea8c0"
   },
   "outputs": [],
   "source": [
    "# load files\n",
    "train_covariate = openpickle('data/train_covariate')\n",
    "train_noisy_embedding = openpickle('data/train_noisy_embedding')\n",
    "test_covariate = openpickle('data/test_covariate')\n",
    "test_noisy_embedding = openpickle('data/test_noisy_embedding')\n",
    "\n",
    "existing_train_idx = list(train_noisy_embedding.index)\n",
    "existing_test_idx = list(test_noisy_embedding.index)\n",
    "\n",
    "existing_covariate = pd.concat([train_covariate.loc[existing_train_idx], test_covariate.loc[existing_test_idx]])\n",
    "\n",
    "train_noisy_embedding.columns = train_noisy_embedding.columns.astype(str)\n",
    "existing_embedding = pd.concat([train_noisy_embedding, test_noisy_embedding], axis=0)\n",
    "\n",
    "# train KNN to get new user vectors\n",
    "neigh = NearestNeighbors(n_neighbors = N_NEIGHBORS)\n",
    "neigh.fit(existing_covariate)\n",
    "\n",
    "#pickle the object and store it in a file\n",
    "existing_embedding.to_pickle(FILEPATH + 'user_embedding')\n",
    "pickle.dump(neigh, open(FILEPATH + 'knn_model', 'wb'))"
   ]
  },
  {
   "cell_type": "code",
   "execution_count": null,
   "metadata": {},
   "outputs": [],
   "source": []
  }
 ],
 "metadata": {
  "colab": {
   "collapsed_sections": [],
   "name": "estimate_buyer_embedding.ipynb",
   "provenance": []
  },
  "kernelspec": {
   "display_name": "Python 3",
   "language": "python",
   "name": "python3"
  },
  "language_info": {
   "codemirror_mode": {
    "name": "ipython",
    "version": 3
   },
   "file_extension": ".py",
   "mimetype": "text/x-python",
   "name": "python",
   "nbconvert_exporter": "python",
   "pygments_lexer": "ipython3",
   "version": "3.7.3"
  }
 },
 "nbformat": 4,
 "nbformat_minor": 1
}
