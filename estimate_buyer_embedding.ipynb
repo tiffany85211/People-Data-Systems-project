{
  "cells": [
    {
      "cell_type": "code",
      "execution_count": 1,
      "metadata": {
        "id": "VF7ThMIK0EmC"
      },
      "outputs": [],
      "source": [
        "import pandas as pd\n",
        "import numpy as np\n",
        "import pickle\n",
        "from sklearn.neighbors import NearestNeighbors\n",
        "\n",
        "N_NEIGHBORS = 5\n",
        "DATA_FILEPATH = './data/'\n",
        "MODEL_FILEPATH = './machine_learning_model/'\n",
        "\n",
        "def openpickle(filename):\n",
        "    with open(DATA_FILEPATH + filename, \"rb\") as readfile:\n",
        "        loaded = pickle.load(readfile)\n",
        "    return loaded\n",
        "\n",
        "def dumppickle(var, filename):\n",
        "    pickle.dump(var, open(MODEL_FILEPATH + filename, 'wb'))"
      ]
    },
    {
      "cell_type": "code",
      "execution_count": null,
      "metadata": {
        "colab": {
          "base_uri": "https://localhost:8080/",
          "height": 357
        },
        "id": "Byz7RQtf0Mx-",
        "outputId": "d7cece30-2112-4038-e74e-6451a0eea8c0"
      },
      "outputs": [],
      "source": [
        "# load files\n",
        "train_covariate = openpickle('train_covariate')\n",
        "train_noisy_embedding = openpickle('train_noisy_embedding')\n",
        "test_covariate = openpickle('test_covariate')\n",
        "test_noisy_embedding = openpickle('test_noisy_embedding')\n",
        "\n",
        "existing_train_idx = list(train_noisy_embedding.index)\n",
        "existing_test_idx = list(test_noisy_embedding.index)\n",
        "\n",
        "existing_covariate = pd.concat([train_covariate.loc[existing_train_idx], test_covariate.loc[existing_test_idx]])\n",
        "\n",
        "train_noisy_embedding.columns = train_noisy_embedding.columns.astype(str)\n",
        "existing_embedding = pd.concat([train_noisy_embedding, test_noisy_embedding], axis=0)\n",
        "\n",
        "# train KNN to get new user vectors\n",
        "neigh = NearestNeighbors(n_neighbors = N_NEIGHBORS)\n",
        "neigh.fit(existing_covariate)\n",
        "\n",
        "#pickle the object and store it in a file\n",
        "existing_embedding.to_pickle(MODEL_FILEPATH + 'existing_embedding')\n",
        "dumppickle(neigh, 'knn_model')"
      ]
    }
  ],
  "metadata": {
    "colab": {
      "collapsed_sections": [],
      "name": "estimate_buyer_embedding.ipynb",
      "provenance": []
    },
    "kernelspec": {
      "display_name": "Python 3",
      "name": "python3"
    },
    "language_info": {
      "name": "python"
    }
  },
  "nbformat": 4,
  "nbformat_minor": 0
}
