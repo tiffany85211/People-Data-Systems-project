{
 "cells": [
  {
   "cell_type": "code",
   "execution_count": 1,
   "metadata": {
    "id": "RgKYDkHzF-Ip"
   },
   "outputs": [
    {
     "name": "stderr",
     "output_type": "stream",
     "text": [
      "/Users/tiffanyc/anaconda3/lib/python3.7/site-packages/pandas/compat/_optional.py:138: UserWarning: Pandas requires version '2.7.0' or newer of 'numexpr' (version '2.6.9' currently installed).\n",
      "  warnings.warn(msg, UserWarning)\n"
     ]
    }
   ],
   "source": [
    "import pandas as pd\n",
    "import numpy as np\n",
    "import pickle\n",
    "\n",
    "FILEPATH = 'agents/pricemaker_files/'\n",
    "\n",
    "def openpickle(filename):\n",
    "    with open(filename, \"rb\") as readfile:\n",
    "        loaded = pickle.load(readfile)\n",
    "    return loaded"
   ]
  },
  {
   "cell_type": "code",
   "execution_count": 2,
   "metadata": {
    "id": "zf-_wjWFF-It"
   },
   "outputs": [],
   "source": [
    "train_pricing_decisions = pd.read_csv('./data/train_prices_decisions.csv')\n",
    "train_covariate = openpickle('./data/train_covariate')\n",
    "train_noisy_embedding = openpickle('./data/train_noisy_embedding')\n",
    "existing_embedding = openpickle(FILEPATH + 'user_embedding')\n",
    "item0_embedding = openpickle(FILEPATH + 'item0embedding')\n",
    "item1_embedding = openpickle(FILEPATH + 'item1embedding')"
   ]
  },
  {
   "cell_type": "code",
   "execution_count": 3,
   "metadata": {
    "id": "zIUKLtrPNqwZ"
   },
   "outputs": [],
   "source": [
    "item_embedding = np.array([item0_embedding, item1_embedding])\n",
    "train_pricing_decisions = train_pricing_decisions.set_index('user_index')\n",
    "price_pair = train_pricing_decisions.drop(columns=[\"item_bought\"])"
   ]
  },
  {
   "cell_type": "code",
   "execution_count": 4,
   "metadata": {
    "id": "EvHPNHQ_0m_m"
   },
   "outputs": [],
   "source": [
    "existing_train_idx = list(train_noisy_embedding.index)\n",
    "new_train_idx = [u for u in list(train_covariate.index) if u not in existing_train_idx]\n",
    "new_train_covariate = train_covariate.loc[new_train_idx]"
   ]
  },
  {
   "cell_type": "code",
   "execution_count": 5,
   "metadata": {
    "id": "_std2swrz-yh"
   },
   "outputs": [],
   "source": [
    "neigh = pickle.load(open(FILEPATH + 'knn_model', \"rb\"))\n",
    "\n",
    "neighbor_ids = neigh.kneighbors(new_train_covariate, return_distance=False)\n",
    "for i in range(len(new_train_idx)):\n",
    "    curr_embedding = list(existing_embedding.iloc[neighbor_ids[i]].mean(axis=0))\n",
    "    train_noisy_embedding.loc[new_train_idx[i]] = curr_embedding\n",
    "\n",
    "train_noisy_embedding = train_noisy_embedding.sort_index()"
   ]
  },
  {
   "cell_type": "code",
   "execution_count": 6,
   "metadata": {
    "id": "P5hMiD2acCrB"
   },
   "outputs": [
    {
     "name": "stdout",
     "output_type": "stream",
     "text": [
      "(14000, 7)\n"
     ]
    }
   ],
   "source": [
    "X_train = train_covariate.join(train_noisy_embedding @ item_embedding.T).join(price_pair)\n",
    "X_train.columns = X_train.columns.astype(str)\n",
    "print(X_train.shape)\n",
    "\n",
    "y_train = train_pricing_decisions['item_bought']"
   ]
  },
  {
   "cell_type": "markdown",
   "metadata": {
    "id": "9dDYoIApcgcu"
   },
   "source": [
    "## Demand prediction"
   ]
  },
  {
   "cell_type": "code",
   "execution_count": 7,
   "metadata": {
    "id": "-qAQ5yW511VJ"
   },
   "outputs": [],
   "source": [
    "from sklearn.linear_model import LogisticRegressionCV"
   ]
  },
  {
   "cell_type": "code",
   "execution_count": 8,
   "metadata": {
    "id": "hrMreIAtDUYa"
   },
   "outputs": [],
   "source": [
    "clf = LogisticRegressionCV(multi_class=\"multinomial\", max_iter=1000).fit(X_train.values, y_train.values)"
   ]
  },
  {
   "cell_type": "code",
   "execution_count": 9,
   "metadata": {},
   "outputs": [],
   "source": [
    "pickle.dump(clf, open(FILEPATH + 'logit_model', 'wb'))"
   ]
  },
  {
   "cell_type": "code",
   "execution_count": null,
   "metadata": {},
   "outputs": [],
   "source": []
  }
 ],
 "metadata": {
  "colab": {
   "collapsed_sections": [],
   "name": "pds_project.ipynb",
   "provenance": []
  },
  "interpreter": {
   "hash": "dc4567cdde2f26222a4d257fd7c12c74a291fc7c311992e7754b95982bd63dc3"
  },
  "kernelspec": {
   "display_name": "Python 3",
   "language": "python",
   "name": "python3"
  },
  "language_info": {
   "codemirror_mode": {
    "name": "ipython",
    "version": 3
   },
   "file_extension": ".py",
   "mimetype": "text/x-python",
   "name": "python",
   "nbconvert_exporter": "python",
   "pygments_lexer": "ipython3",
   "version": "3.7.3"
  }
 },
 "nbformat": 4,
 "nbformat_minor": 1
}
